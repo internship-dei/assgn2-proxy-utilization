{
  "nbformat": 4,
  "nbformat_minor": 0,
  "metadata": {
    "colab": {
      "name": "Kusum_ proxy-utilization.ipynb",
      "provenance": [],
      "collapsed_sections": []
    },
    "kernelspec": {
      "name": "python3",
      "display_name": "Python 3"
    },
    "language_info": {
      "name": "python"
    }
  },
  "cells": [
    {
      "cell_type": "code",
      "metadata": {
        "id": "GsO6xtX0VSd5"
      },
      "source": [
        "from lxml.html import fromstring\n",
        "import requests\n",
        "from itertools import cycle\n",
        "import traceback\n",
        "def get_proxies():\n",
        "  PROXY_URL = 'https://free-proxy-list.net/'\n",
        "  response = requests.get(PROXY_URL)\n",
        "  parser = fromstring(response.text)\n",
        "  proxies = set()\n",
        "  for i in parser.xpath('//tbody/tr'):\n",
        "    if i.xpath('.//td[7][contains(text(),\"yes\")]'):\n",
        "      proxy = \":\".join([i.xpath('.//td[1]/text()')[0], i.xpath('.//td[2]/text()')[0]])\n",
        "      proxies.add(proxy)\n",
        "  return proxies\n",
        "\n",
        "proxies = get_proxies()\n",
        "proxy_len = len(proxies)\n",
        "print('Number of proxies are :', proxy_len)\n",
        "proxy_pool = cycle(proxies)\n",
        "url = 'https://httpbin.org/ip'\n",
        "proxy_success = 0\n",
        "proxy_blocked = 0\n",
        "for i in range(1,proxy_len + 1):\n",
        "  #Get a proxy from the pool\n",
        "  proxy = next(proxy_pool)\n",
        "  print(\"Request #%d\"%i)\n",
        "  try:\n",
        "    response = requests.get(url,proxies={\"http\": proxy, \"https\": proxy})\n",
        "    print(response.status_code)\n",
        "    proxy_success += 1\n",
        "    if (response.status_code==403):\n",
        "      proxy_blocked += 1\n",
        "  except Exception as e:\n",
        "    print(\"Error :\", e.__class__, \"occurred. Skipping.\")\n",
        "success_percentage = proxy_success / proxy_len * 100.0\n",
        "print(proxy_success)\n",
        "print(proxy_blocked)\n",
        "print(success_percentage)"
      ],
      "execution_count": null,
      "outputs": []
    },
    {
      "cell_type": "markdown",
      "metadata": {
        "id": "IMhcXQC0CLE0"
      },
      "source": [
        "**Stats and observations**\n",
        "URL used : https://fossbytes.com/10-best-free-music-websites-to-download-songs-legally/\n",
        "\n",
        "Total Proxy Used : 103\n",
        "\n",
        "Total Successful Proxy attempts : 49\n",
        "\n",
        "  Successful proxy attempts with Status 200 : 17\n",
        "  \n",
        "  Successful proxy attempts with Status 403 : 32\n",
        "\n",
        "Total Proxy with Connection Error : 54\n",
        "\n",
        "Percentage Successful : 47.57%\n",
        "\n"
      ]
    }
  ]
}