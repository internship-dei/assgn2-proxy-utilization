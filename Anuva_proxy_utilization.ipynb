{
 "cells": [
  {
   "cell_type": "code",
   "execution_count": null,
   "metadata": {},
   "outputs": [],
   "source": [
    "#IMPORTING THE LIBRARIES\n",
    "from lxml.html import fromstring\n",
    "import requests\n",
    "from itertools import cycle\n",
    "import traceback"
   ]
  },
  {
   "cell_type": "code",
   "execution_count": null,
   "metadata": {},
   "outputs": [],
   "source": [
    "#FUNCTION TO SCRAPE PROXIES FROM THE WEBSITE\n",
    "def get_proxies():\n",
    "    url = 'https://free-proxy-list.net/'\n",
    "    response = requests.get(url)\n",
    "    parser = fromstring(response.text)\n",
    "    proxies = set()\n",
    "    for i in parser.xpath('//tbody/tr')[:5000]:\n",
    "        if i.xpath('.//td[7][contains(text(),\"yes\")]'):\n",
    "            proxy = \":\".join([i.xpath('.//td[1]/text()')[0], i.xpath('.//td[2]/text()')[0]])\n",
    "            proxies.add(proxy)\n",
    "    return proxies"
   ]
  },
  {
   "cell_type": "code",
   "execution_count": null,
   "metadata": {
    "scrolled": true
   },
   "outputs": [],
   "source": [
    "proxies = get_proxies()\n",
    "print(proxies)\n",
    "\n",
    "print(f\"Number of proxies = \" ,len(proxies))"
   ]
  },
  {
   "cell_type": "code",
   "execution_count": null,
   "metadata": {
    "scrolled": true
   },
   "outputs": [],
   "source": [
    "c1 = 0 #TO STORE THE NUMBER OF PROXIES WORKING\n",
    "c2 = 0 #TO STORE THE NUMBER OF PROXIES WITH CONNECTION ERROR\n",
    "\n",
    "proxy_pool = cycle(proxies)\n",
    "url = 'http://financialservices.42web.io/PFS.html'\n",
    "\n",
    "for i in range(len(proxies)):\n",
    "    proxy = next(proxy_pool)\n",
    "    print(\"Request #%d\"%i)\n",
    "    try:\n",
    "        response = requests.get(url,proxies={\"http\": proxy, \"https\": proxy}, timeout = 5)\n",
    "        print(response)\n",
    "        c1+=1\n",
    "    except:\n",
    "        print(\"Skipping. Connnection error\")\n",
    "        c2+=1\n",
    "        \n",
    "print(c1)\n",
    "print(c2)"
   ]
  },
  {
   "cell_type": "markdown",
   "metadata": {},
   "source": [
    "TOTAL NUMBER OF PROXIES = 108\n",
    "NUMBER OF PROXIES WITH CONNECTION ERROR = 75\n",
    "NUMBER OF PROXIES WORKING = 33\n",
    "PERCENTAGE = 30%"
   ]
  }
 ],
 "metadata": {
  "kernelspec": {
   "display_name": "Python 3",
   "language": "python",
   "name": "python3"
  },
  "language_info": {
   "codemirror_mode": {
    "name": "ipython",
    "version": 3
   },
   "file_extension": ".py",
   "mimetype": "text/x-python",
   "name": "python",
   "nbconvert_exporter": "python",
   "pygments_lexer": "ipython3",
   "version": "3.8.5"
  }
 },
 "nbformat": 4,
 "nbformat_minor": 4
}
